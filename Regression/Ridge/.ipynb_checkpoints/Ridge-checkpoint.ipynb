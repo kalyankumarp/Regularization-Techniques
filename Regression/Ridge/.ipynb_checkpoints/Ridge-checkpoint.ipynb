{
 "cells": [
  {
   "cell_type": "code",
   "execution_count": 1,
   "metadata": {},
   "outputs": [],
   "source": [
    "# Load libraries\n",
    "import pandas as pd\n",
    "import matplotlib.pyplot as plt\n",
    "import seaborn as sns\n",
    "import statsmodels.formula.api as smf\n",
    "from sklearn import linear_model\n",
    "from sklearn.model_selection import train_test_split, KFold, cross_val_score"
   ]
  },
  {
   "cell_type": "code",
   "execution_count": 2,
   "metadata": {},
   "outputs": [
    {
     "data": {
      "text/html": [
       "<div>\n",
       "<style scoped>\n",
       "    .dataframe tbody tr th:only-of-type {\n",
       "        vertical-align: middle;\n",
       "    }\n",
       "\n",
       "    .dataframe tbody tr th {\n",
       "        vertical-align: top;\n",
       "    }\n",
       "\n",
       "    .dataframe thead th {\n",
       "        text-align: right;\n",
       "    }\n",
       "</style>\n",
       "<table border=\"1\" class=\"dataframe\">\n",
       "  <thead>\n",
       "    <tr style=\"text-align: right;\">\n",
       "      <th></th>\n",
       "      <th>total_bill</th>\n",
       "      <th>tip</th>\n",
       "      <th>sex</th>\n",
       "      <th>smoker</th>\n",
       "      <th>day</th>\n",
       "      <th>time</th>\n",
       "      <th>size</th>\n",
       "    </tr>\n",
       "  </thead>\n",
       "  <tbody>\n",
       "    <tr>\n",
       "      <th>0</th>\n",
       "      <td>16.99</td>\n",
       "      <td>1.01</td>\n",
       "      <td>Female</td>\n",
       "      <td>No</td>\n",
       "      <td>Sun</td>\n",
       "      <td>Dinner</td>\n",
       "      <td>2</td>\n",
       "    </tr>\n",
       "    <tr>\n",
       "      <th>1</th>\n",
       "      <td>10.34</td>\n",
       "      <td>1.66</td>\n",
       "      <td>Male</td>\n",
       "      <td>No</td>\n",
       "      <td>Sun</td>\n",
       "      <td>Dinner</td>\n",
       "      <td>3</td>\n",
       "    </tr>\n",
       "    <tr>\n",
       "      <th>2</th>\n",
       "      <td>21.01</td>\n",
       "      <td>3.50</td>\n",
       "      <td>Male</td>\n",
       "      <td>No</td>\n",
       "      <td>Sun</td>\n",
       "      <td>Dinner</td>\n",
       "      <td>3</td>\n",
       "    </tr>\n",
       "    <tr>\n",
       "      <th>3</th>\n",
       "      <td>23.68</td>\n",
       "      <td>3.31</td>\n",
       "      <td>Male</td>\n",
       "      <td>No</td>\n",
       "      <td>Sun</td>\n",
       "      <td>Dinner</td>\n",
       "      <td>2</td>\n",
       "    </tr>\n",
       "    <tr>\n",
       "      <th>4</th>\n",
       "      <td>24.59</td>\n",
       "      <td>3.61</td>\n",
       "      <td>Female</td>\n",
       "      <td>No</td>\n",
       "      <td>Sun</td>\n",
       "      <td>Dinner</td>\n",
       "      <td>4</td>\n",
       "    </tr>\n",
       "  </tbody>\n",
       "</table>\n",
       "</div>"
      ],
      "text/plain": [
       "   total_bill   tip     sex smoker  day    time  size\n",
       "0       16.99  1.01  Female     No  Sun  Dinner     2\n",
       "1       10.34  1.66    Male     No  Sun  Dinner     3\n",
       "2       21.01  3.50    Male     No  Sun  Dinner     3\n",
       "3       23.68  3.31    Male     No  Sun  Dinner     2\n",
       "4       24.59  3.61  Female     No  Sun  Dinner     4"
      ]
     },
     "execution_count": 2,
     "metadata": {},
     "output_type": "execute_result"
    }
   ],
   "source": [
    "# Load dataset\n",
    "data = sns.load_dataset(\"tips\")\n",
    "data.head()"
   ]
  },
  {
   "cell_type": "code",
   "execution_count": 3,
   "metadata": {},
   "outputs": [],
   "source": [
    "# Partition dataset into training, validation, and test sets using holdout method\n",
    "X_train1, X_test, Y_train1, Y_test = train_test_split(data[['total_bill', 'size', 'sex', 'smoker', 'day', 'time']], data['tip'], test_size = 0.1, random_state = 1)\n",
    "X_train, X_val, Y_train, Y_val = train_test_split(X_train1, Y_train1, test_size = 0.2, random_state = 1)"
   ]
  },
  {
   "cell_type": "code",
   "execution_count": 4,
   "metadata": {},
   "outputs": [
    {
     "name": "stdout",
     "output_type": "stream",
     "text": [
      "<class 'pandas.core.frame.DataFrame'>\n",
      "Int64Index: 175 entries, 42 to 169\n",
      "Data columns (total 6 columns):\n",
      "total_bill    175 non-null float64\n",
      "size          175 non-null int64\n",
      "sex           175 non-null category\n",
      "smoker        175 non-null category\n",
      "day           175 non-null category\n",
      "time          175 non-null category\n",
      "dtypes: category(4), float64(1), int64(1)\n",
      "memory usage: 5.3 KB\n",
      "None\n"
     ]
    }
   ],
   "source": [
    "# Explore training set\n",
    "print(X_train.info())"
   ]
  },
  {
   "cell_type": "code",
   "execution_count": 5,
   "metadata": {},
   "outputs": [],
   "source": [
    "# # Explore validation set\n",
    "# print(X_val.info())"
   ]
  },
  {
   "cell_type": "code",
   "execution_count": 6,
   "metadata": {},
   "outputs": [],
   "source": [
    "# # Explore test set\n",
    "# print(X_test.info())"
   ]
  },
  {
   "cell_type": "code",
   "execution_count": 7,
   "metadata": {},
   "outputs": [],
   "source": [
    "X_train_dummy1 = pd.get_dummies(X_train1, drop_first = True)\n",
    "X_train_dummy = pd.get_dummies(X_train, drop_first = True)\n",
    "X_val_dummy = pd.get_dummies(X_val, drop_first = True)\n",
    "X_test_dummy = pd.get_dummies(X_test, drop_first = True)"
   ]
  },
  {
   "cell_type": "code",
   "execution_count": 8,
   "metadata": {},
   "outputs": [
    {
     "name": "stdout",
     "output_type": "stream",
     "text": [
      "[0.45710450571317474, 0.48046458527769653]\n"
     ]
    }
   ],
   "source": [
    "# Evaluate model with all predictors\n",
    "\n",
    "model = linear_model.LinearRegression().fit(X = X_train_dummy1, y = Y_train1)\n",
    "score_train = model.score(X = X_train_dummy1, y = Y_train1) # R squared (training)\n",
    "score_test = model.score(X = X_test_dummy, y = Y_test) # R squared (test)\n",
    "print([score_train, score_test])"
   ]
  },
  {
   "cell_type": "code",
   "execution_count": 9,
   "metadata": {},
   "outputs": [
    {
     "name": "stdout",
     "output_type": "stream",
     "text": [
      "[ 0.08597291  0.20341347  0.07787275  0.15903013  0.138513    0.11432336\n",
      "  0.12431923 -0.12839129]\n",
      "0.6074635821923469\n",
      "[0.4569212652667636, 0.4831945651610725]\n"
     ]
    }
   ],
   "source": [
    "# Evaluate Ridge model\n",
    "model = linear_model.Ridge(alpha = 1).fit(X = X_train_dummy1, y = Y_train1)\n",
    "print(model.coef_)\n",
    "print(model.intercept_)\n",
    "score_train = model.score(X = X_train_dummy1, y = Y_train1) # R squared (training)\n",
    "score_test = model.score(X = X_test_dummy, y = Y_test) # R squared (test)\n",
    "print([score_train,score_test])"
   ]
  },
  {
   "cell_type": "code",
   "execution_count": 10,
   "metadata": {},
   "outputs": [
    {
     "name": "stdout",
     "output_type": "stream",
     "text": [
      "[0.31954276 0.34568096 0.17088526 0.56029296 0.53194506]\n",
      "[0.3856694003812627, 0.14421788433670443]\n",
      "0.4831945651610725\n"
     ]
    }
   ],
   "source": [
    "# Evaluate Ridge model\n",
    "model = linear_model.Ridge(alpha = 1)\n",
    "scores = cross_val_score(model, X = X_train_dummy1, y = Y_train1, cv = 5)\n",
    "print(scores)\n",
    "print([scores.mean(), scores.std()])\n",
    "model.fit(X_train_dummy1, Y_train1)\n",
    "scores_test = model.score(X_test_dummy, Y_test)\n",
    "print(scores_test)"
   ]
  },
  {
   "cell_type": "code",
   "execution_count": null,
   "metadata": {},
   "outputs": [],
   "source": []
  }
 ],
 "metadata": {
  "kernelspec": {
   "display_name": "Python 3",
   "language": "python",
   "name": "python3"
  },
  "language_info": {
   "codemirror_mode": {
    "name": "ipython",
    "version": 3
   },
   "file_extension": ".py",
   "mimetype": "text/x-python",
   "name": "python",
   "nbconvert_exporter": "python",
   "pygments_lexer": "ipython3",
   "version": "3.7.3"
  }
 },
 "nbformat": 4,
 "nbformat_minor": 4
}
