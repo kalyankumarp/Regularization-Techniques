{
 "cells": [
  {
   "cell_type": "code",
   "execution_count": 1,
   "metadata": {},
   "outputs": [],
   "source": [
    "# Load libraries\n",
    "import pandas as pd\n",
    "import matplotlib.pyplot as plt\n",
    "import seaborn as sns\n",
    "import statsmodels.formula.api as smf\n",
    "from sklearn import linear_model\n",
    "from sklearn.model_selection import train_test_split, KFold, cross_val_score"
   ]
  },
  {
   "cell_type": "code",
   "execution_count": 2,
   "metadata": {},
   "outputs": [
    {
     "data": {
      "text/html": [
       "<div>\n",
       "<style scoped>\n",
       "    .dataframe tbody tr th:only-of-type {\n",
       "        vertical-align: middle;\n",
       "    }\n",
       "\n",
       "    .dataframe tbody tr th {\n",
       "        vertical-align: top;\n",
       "    }\n",
       "\n",
       "    .dataframe thead th {\n",
       "        text-align: right;\n",
       "    }\n",
       "</style>\n",
       "<table border=\"1\" class=\"dataframe\">\n",
       "  <thead>\n",
       "    <tr style=\"text-align: right;\">\n",
       "      <th></th>\n",
       "      <th>total_bill</th>\n",
       "      <th>tip</th>\n",
       "      <th>sex</th>\n",
       "      <th>smoker</th>\n",
       "      <th>day</th>\n",
       "      <th>time</th>\n",
       "      <th>size</th>\n",
       "    </tr>\n",
       "  </thead>\n",
       "  <tbody>\n",
       "    <tr>\n",
       "      <th>0</th>\n",
       "      <td>16.99</td>\n",
       "      <td>1.01</td>\n",
       "      <td>Female</td>\n",
       "      <td>No</td>\n",
       "      <td>Sun</td>\n",
       "      <td>Dinner</td>\n",
       "      <td>2</td>\n",
       "    </tr>\n",
       "    <tr>\n",
       "      <th>1</th>\n",
       "      <td>10.34</td>\n",
       "      <td>1.66</td>\n",
       "      <td>Male</td>\n",
       "      <td>No</td>\n",
       "      <td>Sun</td>\n",
       "      <td>Dinner</td>\n",
       "      <td>3</td>\n",
       "    </tr>\n",
       "    <tr>\n",
       "      <th>2</th>\n",
       "      <td>21.01</td>\n",
       "      <td>3.50</td>\n",
       "      <td>Male</td>\n",
       "      <td>No</td>\n",
       "      <td>Sun</td>\n",
       "      <td>Dinner</td>\n",
       "      <td>3</td>\n",
       "    </tr>\n",
       "    <tr>\n",
       "      <th>3</th>\n",
       "      <td>23.68</td>\n",
       "      <td>3.31</td>\n",
       "      <td>Male</td>\n",
       "      <td>No</td>\n",
       "      <td>Sun</td>\n",
       "      <td>Dinner</td>\n",
       "      <td>2</td>\n",
       "    </tr>\n",
       "    <tr>\n",
       "      <th>4</th>\n",
       "      <td>24.59</td>\n",
       "      <td>3.61</td>\n",
       "      <td>Female</td>\n",
       "      <td>No</td>\n",
       "      <td>Sun</td>\n",
       "      <td>Dinner</td>\n",
       "      <td>4</td>\n",
       "    </tr>\n",
       "  </tbody>\n",
       "</table>\n",
       "</div>"
      ],
      "text/plain": [
       "   total_bill   tip     sex smoker  day    time  size\n",
       "0       16.99  1.01  Female     No  Sun  Dinner     2\n",
       "1       10.34  1.66    Male     No  Sun  Dinner     3\n",
       "2       21.01  3.50    Male     No  Sun  Dinner     3\n",
       "3       23.68  3.31    Male     No  Sun  Dinner     2\n",
       "4       24.59  3.61  Female     No  Sun  Dinner     4"
      ]
     },
     "execution_count": 2,
     "metadata": {},
     "output_type": "execute_result"
    }
   ],
   "source": [
    "# Load dataset\n",
    "data = sns.load_dataset(\"tips\")\n",
    "data.head()"
   ]
  },
  {
   "cell_type": "code",
   "execution_count": 3,
   "metadata": {},
   "outputs": [],
   "source": [
    "# Partition dataset into training, validation, and test sets using holdout method\n",
    "X_train, X_test, Y_train, Y_test = train_test_split(data[['total_bill', 'size', 'sex', 'smoker', 'day', 'time']], data['tip'], test_size = 0.2, random_state = 1)\n",
    "X_train, X_val, Y_train, Y_val = train_test_split(X_train, Y_train, test_size = 0.2, random_state = 1)"
   ]
  },
  {
   "cell_type": "code",
   "execution_count": 4,
   "metadata": {},
   "outputs": [
    {
     "name": "stdout",
     "output_type": "stream",
     "text": [
      "<class 'pandas.core.frame.DataFrame'>\n",
      "Int64Index: 156 entries, 112 to 84\n",
      "Data columns (total 6 columns):\n",
      "total_bill    156 non-null float64\n",
      "size          156 non-null int64\n",
      "sex           156 non-null category\n",
      "smoker        156 non-null category\n",
      "day           156 non-null category\n",
      "time          156 non-null category\n",
      "dtypes: category(4), float64(1), int64(1)\n",
      "memory usage: 4.7 KB\n",
      "None\n"
     ]
    }
   ],
   "source": [
    "# Explore training set\n",
    "print(X_train.info())"
   ]
  },
  {
   "cell_type": "code",
   "execution_count": 5,
   "metadata": {},
   "outputs": [
    {
     "name": "stdout",
     "output_type": "stream",
     "text": [
      "<class 'pandas.core.frame.DataFrame'>\n",
      "Int64Index: 39 entries, 64 to 79\n",
      "Data columns (total 6 columns):\n",
      "total_bill    39 non-null float64\n",
      "size          39 non-null int64\n",
      "sex           39 non-null category\n",
      "smoker        39 non-null category\n",
      "day           39 non-null category\n",
      "time          39 non-null category\n",
      "dtypes: category(4), float64(1), int64(1)\n",
      "memory usage: 1.5 KB\n",
      "None\n"
     ]
    }
   ],
   "source": [
    "# Explore validation set\n",
    "print(X_val.info())"
   ]
  },
  {
   "cell_type": "code",
   "execution_count": 6,
   "metadata": {},
   "outputs": [
    {
     "name": "stdout",
     "output_type": "stream",
     "text": [
      "<class 'pandas.core.frame.DataFrame'>\n",
      "Int64Index: 49 entries, 67 to 29\n",
      "Data columns (total 6 columns):\n",
      "total_bill    49 non-null float64\n",
      "size          49 non-null int64\n",
      "sex           49 non-null category\n",
      "smoker        49 non-null category\n",
      "day           49 non-null category\n",
      "time          49 non-null category\n",
      "dtypes: category(4), float64(1), int64(1)\n",
      "memory usage: 1.8 KB\n",
      "None\n"
     ]
    }
   ],
   "source": [
    "# Explore test set\n",
    "print(X_test.info())"
   ]
  },
  {
   "cell_type": "code",
   "execution_count": 7,
   "metadata": {},
   "outputs": [
    {
     "name": "stdout",
     "output_type": "stream",
     "text": [
      "[0.4766128300729817, 0.2680741934173284]\n"
     ]
    }
   ],
   "source": [
    "# Evaluate model with two predictors without test data\n",
    "model = linear_model.LinearRegression().fit(X = X_train[['total_bill', 'size']], y = Y_train)\n",
    "score_train = model.score(X = X_train[['total_bill', 'size']], y = Y_train) # R squared (training)\n",
    "score_val = model.score(X = X_val[['total_bill', 'size']], y = Y_val) # R squared (validation)\n",
    "score_test = model.score(X = X_test[['total_bill', 'size']], y = Y_test) # R squared (test)\n",
    "print([score_train, score_val])"
   ]
  },
  {
   "cell_type": "code",
   "execution_count": 8,
   "metadata": {},
   "outputs": [
    {
     "name": "stdout",
     "output_type": "stream",
     "text": [
      "[0.4984906168226673, 0.1500730876358044]\n"
     ]
    }
   ],
   "source": [
    "# Evaluate model with all predictors without test data\n",
    "X_train_dummy = pd.get_dummies(X_train, drop_first = True)\n",
    "X_val_dummy = pd.get_dummies(X_val, drop_first = True)\n",
    "X_test_dummy = pd.get_dummies(X_test, drop_first = True)\n",
    "model = linear_model.LinearRegression().fit(X = X_train_dummy, y = Y_train)\n",
    "score_train = model.score(X = X_train_dummy, y = Y_train) # R squared (training)\n",
    "score_val = model.score(X = X_val_dummy, y = Y_val) # R squared (validation)\n",
    "score_test = model.score(X = X_test_dummy, y = Y_test) # R squared (test)\n",
    "print([score_train, score_val])"
   ]
  },
  {
   "cell_type": "code",
   "execution_count": 9,
   "metadata": {},
   "outputs": [],
   "source": [
    "# The model with higher R2 for validation set of the model with two predictors is better"
   ]
  },
  {
   "cell_type": "code",
   "execution_count": 10,
   "metadata": {},
   "outputs": [
    {
     "name": "stdout",
     "output_type": "stream",
     "text": [
      "[0.4766128300729817, 0.2680741934173284, 0.5025467454308667]\n"
     ]
    }
   ],
   "source": [
    "# Evaluate model with two predictors\n",
    "model = linear_model.LinearRegression().fit(X = X_train[['total_bill', 'size']], y = Y_train)\n",
    "score_train = model.score(X = X_train[['total_bill', 'size']], y = Y_train) # R squared (training)\n",
    "score_val = model.score(X = X_val[['total_bill', 'size']], y = Y_val) # R squared (validation)\n",
    "score_test = model.score(X = X_test[['total_bill', 'size']], y = Y_test) # R squared (test)\n",
    "print([score_train, score_val, score_test])"
   ]
  },
  {
   "cell_type": "code",
   "execution_count": 11,
   "metadata": {},
   "outputs": [
    {
     "name": "stdout",
     "output_type": "stream",
     "text": [
      "[0.4984906168226673, 0.1500730876358044, 0.45740339690612053]\n"
     ]
    }
   ],
   "source": [
    "# Evaluate model with all predictors\n",
    "X_train_dummy = pd.get_dummies(X_train, drop_first = True)\n",
    "X_val_dummy = pd.get_dummies(X_val, drop_first = True)\n",
    "X_test_dummy = pd.get_dummies(X_test, drop_first = True)\n",
    "model = linear_model.LinearRegression().fit(X = X_train_dummy, y = Y_train)\n",
    "score_train = model.score(X = X_train_dummy, y = Y_train) # R squared (training)\n",
    "score_val = model.score(X = X_val_dummy, y = Y_val) # R squared (validation)\n",
    "score_test = model.score(X = X_test_dummy, y = Y_test) # R squared (test)\n",
    "print([score_train, score_val, score_test])"
   ]
  },
  {
   "cell_type": "code",
   "execution_count": 12,
   "metadata": {},
   "outputs": [],
   "source": [
    "# its expected that the R2 value for the test set of the model with two predictors would be higher as the R2 value for its validation set is higher"
   ]
  },
  {
   "cell_type": "code",
   "execution_count": 13,
   "metadata": {},
   "outputs": [
    {
     "name": "stdout",
     "output_type": "stream",
     "text": [
      "[ 0.08463047  0.22815647  0.16745141  0.33087101  0.25928626  0.16275647\n",
      " -0.09618461 -0.0213254 ]\n",
      "0.35924435448807257\n",
      "[0.4979572371027402, 0.15475384204753373, 0.46801325469326427]\n"
     ]
    }
   ],
   "source": [
    "# Evaluate ridge regression model\n",
    "model = linear_model.Ridge(alpha = 1).fit(X = X_train_dummy, y = Y_train)\n",
    "print(model.coef_)\n",
    "print(model.intercept_)\n",
    "score_train = model.score(X = X_train_dummy, y = Y_train) # R squared (training)\n",
    "score_val = model.score(X = X_val_dummy, y = Y_val) # R squared (validation)\n",
    "score_test = model.score(X = X_test_dummy, y = Y_test) # R squared (test)\n",
    "print([score_train, score_val, score_test])"
   ]
  },
  {
   "cell_type": "code",
   "execution_count": 14,
   "metadata": {},
   "outputs": [
    {
     "name": "stdout",
     "output_type": "stream",
     "text": [
      "[ 0.0833546  0.         0.         0.        -0.         0.\n",
      " -0.         0.       ]\n",
      "1.2672429703113126\n",
      "[0.44690685270800645, 0.24517250610740762, 0.48653991019691134]\n"
     ]
    }
   ],
   "source": [
    "# Evaluate LASSO regression model\n",
    "model = linear_model.Lasso(alpha = 1).fit(X = X_train_dummy, y = Y_train)\n",
    "print(model.coef_)\n",
    "print(model.intercept_)\n",
    "score_train = model.score(X = X_train_dummy, y = Y_train) # R squared (training)\n",
    "score_val = model.score(X = X_val_dummy, y = Y_val) # R squared (validation)\n",
    "score_test = model.score(X = X_test_dummy, y = Y_test) # R squared (test)\n",
    "print([score_train, score_val, score_test])"
   ]
  },
  {
   "cell_type": "code",
   "execution_count": 15,
   "metadata": {},
   "outputs": [
    {
     "name": "stdout",
     "output_type": "stream",
     "text": [
      "[ 0.08868425  0.          0.          0.         -0.          0.\n",
      " -0.          0.        ]\n",
      "1.1600009252621706\n",
      "[0.4517422247647733, 0.24602004020141358, 0.5058380902878925]\n"
     ]
    }
   ],
   "source": [
    "# Evaluate elastic net model\n",
    "model = linear_model.ElasticNet(alpha = 1, l1_ratio = 0.5).fit(X = X_train_dummy, y = Y_train)\n",
    "print(model.coef_)\n",
    "print(model.intercept_)\n",
    "score_train = model.score(X = X_train_dummy, y = Y_train) # R squared (training)\n",
    "score_val = model.score(X = X_val_dummy, y = Y_val) # R squared (validation)\n",
    "score_test = model.score(X = X_test_dummy, y = Y_test) # R squared (test)\n",
    "print([score_train, score_val, score_test])"
   ]
  },
  {
   "cell_type": "code",
   "execution_count": 16,
   "metadata": {},
   "outputs": [],
   "source": [
    "# Question 01: Using the holdout method, which model has the best performance?"
   ]
  },
  {
   "cell_type": "code",
   "execution_count": 17,
   "metadata": {},
   "outputs": [
    {
     "name": "stdout",
     "output_type": "stream",
     "text": [
      "[195, 49]\n",
      "[195, 49]\n",
      "[195, 49]\n",
      "[195, 49]\n",
      "[196, 48]\n"
     ]
    }
   ],
   "source": [
    "# Partition dataset into training and test sets using 5-fold cross-validation\n",
    "folds = KFold(n_splits = 5, shuffle = False)\n",
    "for train_index, test_index in folds.split(data):\n",
    "    print([train_index.shape[0], test_index.shape[0]])"
   ]
  },
  {
   "cell_type": "code",
   "execution_count": 18,
   "metadata": {},
   "outputs": [
    {
     "name": "stdout",
     "output_type": "stream",
     "text": [
      "[0.53404571 0.61085627 0.51123501 0.25355216 0.41897975]\n",
      "[0.465733781303872, 0.12247807667862953]\n"
     ]
    }
   ],
   "source": [
    "# Evaluate model with two predictors\n",
    "model = linear_model.LinearRegression()\n",
    "scores = cross_val_score(model, X = data[['total_bill', 'size']], y = data['tip'], cv = folds)\n",
    "print(scores)\n",
    "print([scores.mean(), scores.std()])"
   ]
  },
  {
   "cell_type": "code",
   "execution_count": 19,
   "metadata": {},
   "outputs": [
    {
     "name": "stdout",
     "output_type": "stream",
     "text": [
      "[0.52819606 0.59245311 0.40773384 0.20031853 0.37843167]\n",
      "[0.42142664059440527, 0.13533264127084232]\n"
     ]
    }
   ],
   "source": [
    "# Evaluate model with all predictors\n",
    "data_dummy = pd.get_dummies(data[['total_bill', 'size', 'sex', 'smoker', 'day', 'time']], drop_first = True)\n",
    "model = linear_model.LinearRegression()\n",
    "scores = cross_val_score(model, X = data_dummy, y = data['tip'], cv = folds)\n",
    "print(scores)\n",
    "print([scores.mean(), scores.std()])"
   ]
  },
  {
   "cell_type": "code",
   "execution_count": 20,
   "metadata": {},
   "outputs": [
    {
     "name": "stdout",
     "output_type": "stream",
     "text": [
      "[0.52856008 0.59381419 0.4110844  0.20285942 0.3799312 ]\n",
      "[0.4232498560234852, 0.13474337569568162]\n"
     ]
    }
   ],
   "source": [
    "# Evaluate ridge regression model\n",
    "model = linear_model.Ridge(alpha = 1)\n",
    "scores = cross_val_score(model, X = data_dummy, y = data['tip'], cv = folds)\n",
    "print(scores)\n",
    "print([scores.mean(), scores.std()])"
   ]
  },
  {
   "cell_type": "code",
   "execution_count": 21,
   "metadata": {},
   "outputs": [
    {
     "name": "stdout",
     "output_type": "stream",
     "text": [
      "[0.51231329 0.59998849 0.47054693 0.27016128 0.39496651]\n",
      "[0.4495953011995966, 0.11150919601791943]\n"
     ]
    }
   ],
   "source": [
    "# Evaluate LASSO regression model\n",
    "model = linear_model.Lasso(alpha = 1)\n",
    "scores = cross_val_score(model, X = data_dummy, y = data['tip'], cv = folds)\n",
    "print(scores)\n",
    "print([scores.mean(), scores.std()])"
   ]
  },
  {
   "cell_type": "code",
   "execution_count": 22,
   "metadata": {},
   "outputs": [
    {
     "name": "stdout",
     "output_type": "stream",
     "text": [
      "[0.53054017 0.61071783 0.47411113 0.25806837 0.39915932]\n",
      "[0.4545193629248307, 0.12018210339870257]\n"
     ]
    }
   ],
   "source": [
    "# Evaluate elastic net model\n",
    "model = linear_model.ElasticNet(alpha = 1, l1_ratio = 0.5)\n",
    "scores = cross_val_score(model, X = data_dummy, y = data['tip'], cv = folds)\n",
    "print(scores)\n",
    "print([scores.mean(), scores.std()])"
   ]
  },
  {
   "cell_type": "code",
   "execution_count": null,
   "metadata": {},
   "outputs": [],
   "source": [
    "# Question 02: Using the cross-validation method, which model has the best performance?"
   ]
  },
  {
   "cell_type": "code",
   "execution_count": null,
   "metadata": {},
   "outputs": [],
   "source": [
    "from sklearn.model_selection import cross_val_score"
   ]
  }
 ],
 "metadata": {
  "kernelspec": {
   "display_name": "Python 3",
   "language": "python",
   "name": "python3"
  },
  "language_info": {
   "codemirror_mode": {
    "name": "ipython",
    "version": 3
   },
   "file_extension": ".py",
   "mimetype": "text/x-python",
   "name": "python",
   "nbconvert_exporter": "python",
   "pygments_lexer": "ipython3",
   "version": "3.7.3"
  }
 },
 "nbformat": 4,
 "nbformat_minor": 4
}
